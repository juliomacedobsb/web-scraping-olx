{
  "nbformat": 4,
  "nbformat_minor": 0,
  "metadata": {
    "colab": {
      "name": "Untitled11.ipynb",
      "provenance": [],
      "authorship_tag": "ABX9TyO3qyEmUy4tPF5EsWWfUXYV"
    },
    "kernelspec": {
      "name": "python3",
      "display_name": "Python 3"
    },
    "language_info": {
      "name": "python"
    }
  },
  "cells": [
    {
      "cell_type": "code",
      "execution_count": 1,
      "metadata": {
        "id": "N-tx3i2Dcz7w"
      },
      "outputs": [],
      "source": [
        "import requests as rq\n",
        "from bs4 import BeautifulSoup as bs\n",
        "headers =  ({'User-Agent' : \n",
        "\t'Mozilla/5.0 (X11; Ubuntu; Linux x86_64; rv:102.0) Gecko/20100101 Firefox/102.0'})"
      ]
    },
    {
      "cell_type": "code",
      "source": [
        "url = 'https://df.olx.com.br/imoveis/aluguel'\n",
        "response = rq.get(url,  headers=headers)\n",
        "content = response.content"
      ],
      "metadata": {
        "id": "w6smVYGYc3rT"
      },
      "execution_count": 2,
      "outputs": []
    },
    {
      "cell_type": "code",
      "source": [
        "site = bs(content, 'html.parser')"
      ],
      "metadata": {
        "id": "pU7pTBmwc8Nl"
      },
      "execution_count": 3,
      "outputs": []
    },
    {
      "cell_type": "code",
      "source": [
        "desc = site.find('h2', class_='kgl1mq-0 eFXRHn sc-fzsDOv jiCiNE').getText().split()\n",
        "val = site.find('div', class_=\"sc-1kn4z61-1 hzqyCO\").getText().split()\n",
        "quartos = site.find('span', class_='sc-1ftm7qz-0 itsfPe sc-bdVaJa bxVNCd').getText().split()\n",
        "metros = site.find('div', class_=\"sc-1ftm7qz-2 ilPFvN\").getText().split()\n",
        "metros2 = metros[3].split()\n",
        "metros = site.find('div', class_=\"sc-1ftm7qz-2 ilPFvN\").getText().split()\n",
        "cond = metros[7].split()\n",
        "data = site.find('span', class_= 'sc-11h4wdr-0 gBAToP sc-fzsDOv dTHJIA').getText().split()\n",
        "loc = site.find('div', class_= \"sc-12rk7z2-13 dVkGth\").getText().split()\n",
        "\n",
        "print('descrição do anuncio: ', desc)\n",
        "print('valor do aluguel: ', val)\n",
        "print('quantidade de quartos: ', quartos)\n",
        "print('metros quadrados do imovel: ', metros2)\n",
        "if(cond):\n",
        "    print('valor do condominio: ', cond)\n",
        "else:\n",
        "    print('sem taxa de condominio') \n",
        "print('data de postagem do anuncio: ', data)       \n",
        "print('localização do imovel: ', loc)"
      ],
      "metadata": {
        "colab": {
          "base_uri": "https://localhost:8080/"
        },
        "id": "BBIJmOd3dAzh",
        "outputId": "82edc7f1-ccaf-4860-97bd-4ef2089f7267"
      },
      "execution_count": 4,
      "outputs": [
        {
          "output_type": "stream",
          "name": "stdout",
          "text": [
            "descrição do anuncio:  ['Aluga-se', 'casa', 'de', '03', 'quartos', '-', 'QNL', '01', '-', 'R$', '1.700,00']\n",
            "valor do aluguel:  ['R$', '1.700']\n",
            "quantidade de quartos:  ['3', 'quartos']\n",
            "metros quadrados do imovel:  ['98m²']\n",
            "valor do condominio:  ['|']\n",
            "data de postagem do anuncio:  ['Ontem,', '23:44']\n",
            "localização do imovel:  ['Brasília,', 'Taguatinga', 'Norte', '(Taguatinga)', '-', 'DDD', '61']\n"
          ]
        }
      ]
    }
  ]
}