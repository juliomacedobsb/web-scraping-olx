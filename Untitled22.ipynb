{
  "nbformat": 4,
  "nbformat_minor": 0,
  "metadata": {
    "colab": {
      "name": "Untitled22.ipynb",
      "provenance": [],
      "authorship_tag": "ABX9TyMO/LL3tyQV+xKv2ozgDTcL"
    },
    "kernelspec": {
      "name": "python3",
      "display_name": "Python 3"
    },
    "language_info": {
      "name": "python"
    }
  },
  "cells": [
    {
      "cell_type": "code",
      "execution_count": 1,
      "metadata": {
        "colab": {
          "base_uri": "https://localhost:8080/"
        },
        "id": "L27kvgu8M9v3",
        "outputId": "267ff819-c710-41c1-db75-1c011b8ccf65"
      },
      "outputs": [
        {
          "output_type": "stream",
          "name": "stdout",
          "text": [
            "descrição do anuncio:  ['Kitnet', 'Porto', 'do', 'Lago']\n",
            "valor do aluguel:  ['R$', '800']\n",
            "quantidade de quartos:  ['28m²']\n",
            "metros quadrados do imovel:  ['R$']\n",
            "valor do condominio:  ['vaga']\n",
            "data de postagem do anuncio:  ['Hoje,', '00:05']\n",
            "localização do imovel:  ['Brasília,', 'Asa', 'Norte', '-', 'DDD', '61']\n"
          ]
        }
      ],
      "source": [
        "\n",
        "import requests as rq\n",
        "from bs4 import BeautifulSoup as bs\n",
        "headers =  ({'User-Agent' : \n",
        "\t'Mozilla/5.0 (X11; Ubuntu; Linux x86_64; rv:102.0) Gecko/20100101 Firefox/102.0'})\n",
        "url = 'https://df.olx.com.br/imoveis/aluguel'\n",
        "response = rq.get(url,  headers=headers)\n",
        "content = response.content\n",
        "\n",
        "site = bs(content, 'html.parser')\n",
        "\n",
        "\n",
        "anuncios = site.find_all('div', class_='sc-1fcmfeb-0 HutRS')\n",
        "\n",
        "\n",
        "for anuncio in anuncios:\n",
        "    desc = site.find('h2', class_='kgl1mq-0 eFXRHn sc-fzsDOv jiCiNE').getText().split()\n",
        "    val = site.find('span', class_=\"m7nrfa-0 eJCbzj sc-fzsDOv kHeyHD\").getText().split()\n",
        "    quartos = site.find('span', class_='sc-1ftm7qz-0 itsfPe sc-bdVaJa bxVNCd').getText().split()\n",
        "    metros = site.find('div', class_=\"sc-1ftm7qz-2 ilPFvN\").getText().split()\n",
        "    metros2 = metros[3].split()\n",
        "    metros = site.find('div', class_=\"sc-1ftm7qz-2 ilPFvN\").getText().split()\n",
        "    cond = metros[7].split()\n",
        "    data = site.find('span', class_= 'sc-11h4wdr-0 gBAToP sc-fzsDOv dTHJIA').getText().split()\n",
        "    loc = site.find('span', class_= \"sc-1c3ysll-1 iDvjkv sc-fzsDOv dTHJIA\").getText().split()\n",
        "    \n",
        "\n",
        "    print('descrição do anuncio: ', desc)\n",
        "    print('valor do aluguel: ', val)\n",
        "    print('quantidade de quartos: ', quartos)\n",
        "    print('metros quadrados do imovel: ', metros2)\n",
        "    if(cond):\n",
        "        print('valor do condominio: ', cond)\n",
        "\n",
        "    print('data de postagem do anuncio: ', data)       \n",
        "    print('localização do imovel: ', loc)"
      ]
    },
    {
      "cell_type": "code",
      "source": [
        "print(anuncio.text)"
      ],
      "metadata": {
        "colab": {
          "base_uri": "https://localhost:8080/"
        },
        "id": "uoO_gOuINefu",
        "outputId": "970f51bc-9026-4553-9d62-de4da4d1b402"
      },
      "execution_count": 3,
      "outputs": [
        {
          "output_type": "stream",
          "name": "stdout",
          "text": [
            "12Kitnet Porto do LagoR$ 800Adicionar aos favoritos28m²  |  Condomínio: R$ 399  |  1 vaga  |  Brasília, Asa Norte - DDD 61Hoje, 00:0520Excelente casa em condomínio fechadoR$ 4.800Adicionar aos favoritos3 quartos  |  280m²  |  Condomínio: R$ 405  |  2 vagas  |  ProfissionalBrasília, Setor Habitacional Jardim Botânico - DDD 61Ontem, 23:5120EXCELENTE CASA DE 3 QUARTOS SENDO 1 SUÍTE NA QE 17, GUARÁ II - BRASÍLIAR$ 4.500Adicionar aos favoritos3 quartos  |  197m²  |  Condomínio: R$ 0  |  4 vagas  |  ProfissionalBrasília, Guará II - DDD 61Ontem, 23:4912Apartamento em Setor Leste (Gama) - BrasíliaR$ 910Adicionar aos favoritos2 quartos  |  36m²  |  ProfissionalBrasília, Setor Leste (Gama) - DDD 61Ontem, 23:3420Casa para locação, Setor Habitacional Jardim Botânico, Brasília, DFR$ 6.200Adicionar aos favoritos4 quartos  |  10m²  |  Condomínio: R$ 400  |  2 vagas  |  ProfissionalBrasília, Setor Habitacional Jardim Botânico - DDD 61Ontem, 23:0515RIACHO FUNDO - Casa Padrão - RIACHO FUNDO IIR$ 1.500Adicionar aos favoritos4 quartos  |  150m²  |  Condomínio: R$ 0  |  2 vagas  |  ProfissionalBrasília, Riacho Fundo II - DDD 61Ontem, 23:0210Kitnet para Locação Asa Norte, BrasíliaR$ 950Adicionar aos favoritos47m²  |  Condomínio: R$ 370  |  ProfissionalBrasília, Asa Norte - DDD 61Ontem, 23:005kitinete em Ceilândia na 02/04 - NorteR$ 505Adicionar aos favoritos20m²  |  Condomínio: R$ 0  |  ProfissionalBrasília, Ceilândia Norte (Ceilândia) - DDD 61Ontem, 22:566Noble Aluga Apartamento 02 Quartos (Quadra 27 S/oeste)R$ 710Adicionar aos favoritos2 quartos  |  55m²  |  Condomínio: R$ 0  |  ProfissionalBrasília, Setor Oeste (Gama) - DDD 61Ontem, 22:5610Apartamento de 03 quartos em Águas ClarasR$ 2.400Adicionar aos favoritos3 quartos  |  80m²  |  Condomínio: R$ 0  |  1 vaga  |  ProfissionalBrasília, Sul (Águas Claras) - DDD 61Ontem, 22:4916Apartamento com 3 dormitórios para alugar, 110 m² por R$ 3.500/mês - Vicente Pires - VicenR$ 3.500Adicionar aos favoritos3 quartos  |  110m²  |  Condomínio: R$ 200  |  1 vaga  |  ProfissionalBrasília, Setor Habitacional Vicente Pires - DDD 61Ontem, 22:405Casa de rua-LOCAÇÃO-Ceilândia Norte (Ceilândia)-Brasília-DFR$ 1.500Adicionar aos favoritos3 quartos  |  150m²  |  Condomínio: R$ 0  |  2 vagas  |  ProfissionalBrasília, Ceilândia Norte (Ceilândia) - DDD 61Ontem, 22:3619Casa em Asa Sul - BrasíliaR$ 15.000Adicionar aos favoritos3 quartos  |  4000m²  |  5 ou mais vagas  |  ProfissionalBrasília, Asa Sul - DDD 61Ontem, 22:34203 qts Noroeste, Riviera, SQNW 309R$ 5.800Adicionar aos favoritos3 quartos  |  100m²  |  Condomínio: R$ 940  |  1 vaga  |  ProfissionalBrasília, Setor Noroeste - DDD 61Ontem, 22:274Apartamento 01 quartos a poucos metros do Shopping de Águas Claras!!R$ 1.400Adicionar aos favoritos1 quarto  |  42m²  |  Condomínio: R$ 319  |  1 vaga  |  ProfissionalBrasília, Sul (Águas Claras) - DDD 61Ontem, 22:2520Ed. Upper - Apartamento de Canto, Vista Livre, Semi-Mobiliado + Vaga CobertaR$ 1.790Adicionar aos favoritos1 quarto  |  42m²  |  Condomínio: R$ 575  |  1 vaga  |  ProfissionalBrasília, Setor de Habitações Individuais Norte - DDD 61Ontem, 22:257Casa na Qd 203 no Recanto das Emas - Brasília - DFR$ 800Adicionar aos favoritos2 quartos  |  60m²  |  Condomínio: R$ 0  |  ProfissionalBrasília, Recanto das Emas - DDD 61Ontem, 22:2413Kitnet com 1 dormitório para alugar, 28 m² por R$ 1.200,00/mês - Asa Norte - Brasília/DFR$ 1.200Adicionar aos favoritos1 quarto  |  28m²  |  Condomínio: R$ 325  |  1 vaga  |  ProfissionalBrasília, Asa Norte - DDD 61Ontem, 22:2311Apartamento 3 quartos com Garagem Qn 03 Riacho Fundo 01R$ 2.000Adicionar aos favoritos3 quartos  |  100m²  |  Condomínio: R$ 0  |  1 vaga  |  ProfissionalBrasília, Riacho Fundo I - DDD 61Ontem, 22:219Apartamento à venda e locação 2 Quartos, 1 Vaga, 50M², TAGUATINGA NORTE (TAGUATINGA), BRASR$ 1.555Adicionar aos favoritos2 quartos  |  50m²  |  Condomínio: R$ 363  |  1 vaga  |  ProfissionalBrasília, Taguatinga Norte (Taguatinga) - DDD 61Ontem, 22:199Apartamento à venda e para locação, Taguatinga Norte (Taguatinga), Brasília, DFR$ 1.555Adicionar aos favoritos1 quarto  |  10m²  |  Condomínio: R$ 363  |  1 vaga  |  ProfissionalBrasília, Taguatinga Norte (Taguatinga) - DDD 61Ontem, 22:186Alugo barraco de fundo R$ 600Adicionar aos favoritosBrasília, Ceilândia Norte (Ceilândia) - DDD 61Ontem, 22:1620Casa para locação, Condomínio Prive Morada Sul, Brasília, DFR$ 6.000Adicionar aos favoritos3 quartos  |  10m²  |  Condomínio: R$ 300  |  2 vagas  |  ProfissionalBrasília, Setor Habitacional Jardim Botânico - DDD 61Ontem, 22:1620Apartamento para locação, Setor Habitacional Jardim Botânico, Brasília, DFR$ 2.500Adicionar aos favoritos2 quartos  |  10m²  |  Condomínio: R$ 130  |  ProfissionalBrasília, Setor Habitacional Jardim Botânico - DDD 61Ontem, 22:1510Apartamento na SQS 408 Bloco JR$ 2.500Adicionar aos favoritos2 quartos  |  70m²  |  Condomínio: R$ 0  |  ProfissionalBrasília, Asa Sul - DDD 61Ontem, 22:1415SQS 210 - 2 QUARTOS, SEMI MOBILIADO, DCE CONVERTIDA EM ESCRITÓRIO, 1 VAGA DE GARAGEM!R$ 4.000Adicionar aos favoritos2 quartos  |  85m²  |  Condomínio: R$ 850  |  1 vaga  |  ProfissionalBrasília, Asa Sul - DDD 61Ontem, 22:1212Apartamento para aluguel tem 70 metros quadrados com 3 quartos em Taguatinga Norte - BrasíR$ 765Adicionar aos favoritos3 quartos  |  70m²  |  Condomínio: R$ 0  |  ProfissionalBrasília, Taguatinga Norte (Taguatinga) - DDD 61Ontem, 22:119Apartamento 1 quarto para Locação SAMAMBAIA SUL, BrasíliaR$ 600Adicionar aos favoritos1 quarto  |  35m²  |  Condomínio: R$ 0  |  ProfissionalBrasília, Samambaia Sul (Samambaia) - DDD 61Ontem, 22:1015BRASÍLIA - Casa Padrão - CEILÂNDIA SUL (CEILÂNDIA)R$ 1.500Adicionar aos favoritos3 quartos  |  250m²  |  Condomínio: R$ 0  |  3 vagas  |  ProfissionalBrasília, Ceilândia Sul (Ceilândia) - DDD 61Ontem, 22:0620BRASILIA - Casa Padrao - Setor Hab. Jardim Botânico (Lago Sul)R$ 4.500Adicionar aos favoritos2 quartos  |  300m²  |  Condomínio: R$ 0  |  5 ou mais vagas  |  ProfissionalBrasília, St H Jardim Botânico - DDD 61Ontem, 22:0520Apartamento 01 quarto 01 vaga Lazer CompletoR$ 1.950Adicionar aos favoritos1 quarto  |  45m²  |  Condomínio: R$ 508  |  1 vaga  |  ProfissionalBrasília, Sul (Águas Claras) - DDD 61Ontem, 21:514Kitnet 1 quarto para Locação Zona Industrial (Guará), BrasíliaR$ 500Adicionar aos favoritos1 quarto  |  23m²  |  Condomínio: R$ 0  |  ProfissionalBrasília, Zona Industrial (Guará) - DDD 61Ontem, 21:4720DESTAQUEDF Plaza, Mobiliado, Reformado, Alto PadrãoR$ 2.100Adicionar aos favoritos1 quarto  |  34m²  |  Condomínio: R$ 365  |  1 vaga  |  Brasília, Norte (Águas Claras) - DDD 61Ontem, 21:4420Edvaldo Moreira Aluga Apartamento 2 Quartos Com Suite Residencial San Martin Samambaia SulR$ 900Adicionar aos favoritos2 quartos  |  50m²  |  Condomínio: R$ 237  |  1 vaga  |  ProfissionalBrasília, Samambaia Sul (Samambaia) - DDD 61Ontem, 21:4420QNC 07 - Casa Reformada contendo 03 Quartos sendo 01 Suíte + 01 Quarto de Serviço + 02 vagR$ 3.000Adicionar aos favoritos4 quartos  |  250m²  |  Condomínio: R$ 0  |  2 vagas  |  ProfissionalBrasília, Taguatinga Norte (Taguatinga) - DDD 61Ontem, 21:4315Alugo casa no Valparaíso 3 quartosR$ 900Adicionar aos favoritos3 quartos  |  80m²  |  Condomínio: R$ 0  |  3 vagas  |  Valparaíso de Goiás, Valparaiso I - Etapa B - DDD 61Ontem, 21:4218DESTAQUEKitnet Guará I R$ 900Adicionar aos favoritos1 quarto  |  32m²  |  Condomínio: R$ 0  |  Brasília, Guará I - DDD 61Ontem, 21:4116CONDOMÍNIO CENTURY PLAZA - LOCAÇÃO APARTAMENTO 34M² - MOBILIADO - VAGA GARAGEMR$ 1.700Adicionar aos favoritos1 quarto  |  33m²  |  Condomínio: R$ 510  |  1 vaga  |  ProfissionalBrasília, Norte (Águas Claras) - DDD 61Ontem, 21:3520SQN 208 - BLOCO A - LOCAÇÃO APARTAMENTO 03 QUARTOS COM ARMÁRIOS (SENDO 01 SUÍTE), GARAGEMR$ 5.300Adicionar aos favoritos3 quartos  |  155m²  |  Condomínio: R$ 1.000  |  1 vaga  |  ProfissionalBrasília, Asa Norte - DDD 61Ontem, 21:356Apto 1 quarto - V.Pires - Aluguel- Próximo a EPTGR$ 599Adicionar aos favoritos1 quarto  |  35m²  |  Condomínio: R$ 0  |  ProfissionalBrasília, Setor Habitacional Vicente Pires - DDD 61Ontem, 21:3518Casa no Recanto no final do Recanto na 116R$ 750Adicionar aos favoritos2 quartos  |  1 vaga  |  Brasília, Recanto das Emas - DDD 61Ontem, 21:314Casa 01 quarto para Locação Ceilândia Sul (Ceilândia), BrasíliaR$ 400Adicionar aos favoritos1 quarto  |  30m²  |  Condomínio: R$ 0  |  1 vaga  |  ProfissionalBrasília, Ceilândia Sul (Ceilândia) - DDD 61Ontem, 21:3111Aluguel em Samambaia sul - QR 310R$ 1.300Adicionar aos favoritos3 quartos  |  80m²  |  Condomínio: R$ 0  |  1 vaga  |  ProfissionalBrasília, Samambaia Sul (Samambaia) - DDD 61Ontem, 21:3013Locação Nova Kit Flat - Enxoval Completo, Serv. De Hotel (102)- Portal Master/sudoesteR$ 3.100Adicionar aos favoritos1 quarto  |  26m²  |  Condomínio: R$ 409  |  1 vaga  |  ProfissionalBrasília, Setor Sudoeste - DDD 61Ontem, 21:2913Apartamento para aluguel com 35 metros quadrados com 2 quartos em Setor Sudoeste - BrasíliR$ 2.900Adicionar aos favoritos2 quartos  |  35m²  |  Condomínio: R$ 290  |  1 vaga  |  ProfissionalBrasília, Setor Sudoeste - DDD 61Ontem, 21:2911Apartamento com 1 dormitório para alugar, 27 m² por R$ 1.000,00/mês - Areal - Águas ClarasR$ 1.000Adicionar aos favoritos1 quarto  |  27m²  |  Condomínio: R$ 329  |  1 vaga  |  ProfissionalBrasília, Areal (Águas Claras) - DDD 61Ontem, 21:2920ALUGUEL - COSTA DO SOL - 3 SUÍTESR$ 4.500Adicionar aos favoritos3 quartos  |  135m²  |  Condomínio: R$ 1.133  |  2 vagas  |  ProfissionalBrasília, Sul (Águas Claras) - DDD 61Ontem, 21:287Brasília - Apartamento Padrão - Setor Central (Gama)R$ 726Adicionar aos favoritos1 quarto  |  42m²  |  Condomínio: R$ 0  |  1 vaga  |  ProfissionalBrasília, Setor Central (Gama) - DDD 61Ontem, 21:247Aluga se kitnet R$ 600Adicionar aos favoritos1 quarto  |  Condomínio: R$ 600  |  1 vaga  |  Brasília, Ceilândia Norte (Ceilândia) - DDD 61Ontem, 21:209Apartamento para aluguel com 70 metros quadrados com 3 quartos em Taguatinga Norte - BrasíR$ 1.100Adicionar aos favoritos3 quartos  |  70m²  |  Condomínio: R$ 400  |  1 vaga  |  ProfissionalBrasília, Taguatinga Norte (Taguatinga) - DDD 61Ontem, 21:18\n"
          ]
        }
      ]
    }
  ]
}